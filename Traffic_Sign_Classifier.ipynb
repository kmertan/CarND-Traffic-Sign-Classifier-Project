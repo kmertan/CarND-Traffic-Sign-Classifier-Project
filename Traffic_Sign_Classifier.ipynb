{
 "cells": [
  {
   "cell_type": "markdown",
   "metadata": {},
   "source": [
    "# Self-Driving Car Engineer Nanodegree\n",
    "\n",
    "## Deep Learning\n",
    "\n",
    "## Project: Build a Traffic Sign Recognition Classifier\n",
    "\n",
    "In this notebook, a template is provided for you to implement your functionality in stages, which is required to successfully complete this project. If additional code is required that cannot be included in the notebook, be sure that the Python code is successfully imported and included in your submission if necessary. \n",
    "\n",
    "> **Note**: Once you have completed all of the code implementations, you need to finalize your work by exporting the iPython Notebook as an HTML document. Before exporting the notebook to html, all of the code cells need to have been run so that reviewers can see the final implementation and output. You can then export the notebook by using the menu above and navigating to  \\n\",\n",
    "    \"**File -> Download as -> HTML (.html)**. Include the finished document along with this notebook as your submission. \n",
    "\n",
    "In addition to implementing code, there is a writeup to complete. The writeup should be completed in a separate file, which can be either a markdown file or a pdf document. There is a [write up template](https://github.com/udacity/CarND-Traffic-Sign-Classifier-Project/blob/master/writeup_template.md) that can be used to guide the writing process. Completing the code template and writeup template will cover all of the [rubric points](https://review.udacity.com/#!/rubrics/481/view) for this project.\n",
    "\n",
    "The [rubric](https://review.udacity.com/#!/rubrics/481/view) contains \"Stand Out Suggestions\" for enhancing the project beyond the minimum requirements. The stand out suggestions are optional. If you decide to pursue the \"stand out suggestions\", you can include the code in this Ipython notebook and also discuss the results in the writeup file.\n",
    "\n",
    "\n",
    ">**Note:** Code and Markdown cells can be executed using the **Shift + Enter** keyboard shortcut. In addition, Markdown cells can be edited by typically double-clicking the cell to enter edit mode."
   ]
  },
  {
   "cell_type": "markdown",
   "metadata": {},
   "source": [
    "---\n",
    "## Step 0: Load The Data"
   ]
  },
  {
   "cell_type": "code",
   "execution_count": 1,
   "metadata": {},
   "outputs": [],
   "source": [
    "# Load pickled data\n",
    "import pickle\n",
    "\n",
    "# TODO: Fill this in based on where you saved the training and testing data\n",
    "training_file = 'traffic-signs-data/train.p'\n",
    "validation_file= 'traffic-signs-data/valid.p'\n",
    "testing_file = 'traffic-signs-data/test.p'\n",
    "\n",
    "with open(training_file, mode='rb') as f:\n",
    "    train = pickle.load(f)\n",
    "with open(validation_file, mode='rb') as f:\n",
    "    valid = pickle.load(f)\n",
    "with open(testing_file, mode='rb') as f:\n",
    "    test = pickle.load(f)\n",
    "\n",
    "X_train, y_train = train['features'], train['labels']\n",
    "X_valid, y_valid = valid['features'], valid['labels']\n",
    "X_test, y_test = test['features'], test['labels']"
   ]
  },
  {
   "cell_type": "markdown",
   "metadata": {},
   "source": [
    "---\n",
    "\n",
    "## Step 1: Dataset Summary & Exploration\n",
    "\n",
    "The pickled data is a dictionary with 4 key/value pairs:\n",
    "\n",
    "- `'features'` is a 4D array containing raw pixel data of the traffic sign images, (num examples, width, height, channels).\n",
    "- `'labels'` is a 1D array containing the label/class id of the traffic sign. The file `signnames.csv` contains id -> name mappings for each id.\n",
    "- `'sizes'` is a list containing tuples, (width, height) representing the original width and height the image.\n",
    "- `'coords'` is a list containing tuples, (x1, y1, x2, y2) representing coordinates of a bounding box around the sign in the image. **THESE COORDINATES ASSUME THE ORIGINAL IMAGE. THE PICKLED DATA CONTAINS RESIZED VERSIONS (32 by 32) OF THESE IMAGES**\n",
    "\n",
    "Complete the basic data summary below. Use python, numpy and/or pandas methods to calculate the data summary rather than hard coding the results. For example, the [pandas shape method](http://pandas.pydata.org/pandas-docs/stable/generated/pandas.DataFrame.shape.html) might be useful for calculating some of the summary results. "
   ]
  },
  {
   "cell_type": "markdown",
   "metadata": {},
   "source": [
    "### Provide a Basic Summary of the Data Set Using Python, Numpy and/or Pandas"
   ]
  },
  {
   "cell_type": "code",
   "execution_count": 2,
   "metadata": {},
   "outputs": [
    {
     "name": "stdout",
     "output_type": "stream",
     "text": [
      "Number of training examples = 34799\n",
      "Number of testing examples = 12630\n",
      "Image data shape = (32, 32, 3)\n",
      "Number of classes = 43\n",
      "Number of validation images:  4410\n"
     ]
    }
   ],
   "source": [
    "### Replace each question mark with the appropriate value. \n",
    "### Use python, pandas or numpy methods rather than hard coding the results\n",
    "import pandas as pd\n",
    "import numpy as np\n",
    "\n",
    "# TODO: Number of training examples\n",
    "n_train = X_train.shape[0]\n",
    "\n",
    "# TODO: Number of validation examples\n",
    "n_validation = X_valid.shape[0]\n",
    "\n",
    "# TODO: Number of testing examples.\n",
    "n_test = X_test.shape[0]\n",
    "\n",
    "# TODO: What's the shape of an traffic sign image?\n",
    "image_shape = X_train[1].shape\n",
    "\n",
    "# TODO: How many unique classes/labels there are in the dataset.\n",
    "n_classes = np.unique(y_test).shape[0]\n",
    "\n",
    "print(\"Number of training examples =\", n_train)\n",
    "print(\"Number of testing examples =\", n_test)\n",
    "print(\"Image data shape =\", image_shape)\n",
    "print(\"Number of classes =\", n_classes)\n",
    "print(\"Number of validation images: \", n_validation)"
   ]
  },
  {
   "cell_type": "markdown",
   "metadata": {},
   "source": [
    "### Include an exploratory visualization of the dataset"
   ]
  },
  {
   "cell_type": "markdown",
   "metadata": {},
   "source": [
    "Visualize the German Traffic Signs Dataset using the pickled file(s). This is open ended, suggestions include: plotting traffic sign images, plotting the count of each sign, etc. \n",
    "\n",
    "The [Matplotlib](http://matplotlib.org/) [examples](http://matplotlib.org/examples/index.html) and [gallery](http://matplotlib.org/gallery.html) pages are a great resource for doing visualizations in Python.\n",
    "\n",
    "**NOTE:** It's recommended you start with something simple first. If you wish to do more, come back to it after you've completed the rest of the sections. It can be interesting to look at the distribution of classes in the training, validation and test set. Is the distribution the same? Are there more examples of some classes than others?"
   ]
  },
  {
   "cell_type": "code",
   "execution_count": 3,
   "metadata": {},
   "outputs": [
    {
     "name": "stdout",
     "output_type": "stream",
     "text": [
      "24\n"
     ]
    },
    {
     "data": {
      "image/png": "[encoded data removed]",
      "text/plain": [
       "<matplotlib.figure.Figure at 0x1101af1d0>"
      ]
     },
     "metadata": {},
     "output_type": "display_data"
    }
   ],
   "source": [
    "### Data exploration visualization code goes here.\n",
    "### Feel free to use as many code cells as needed.\n",
    "import matplotlib.pyplot as plt\n",
    "import random\n",
    "# Visualizations will be shown in the notebook.\n",
    "%matplotlib inline\n",
    "\n",
    "# Firstly, plot an image\n",
    "img_index = int(random.uniform(0, X_train.shape[0]))\n",
    "plt.imshow(X_train[img_index])\n",
    "print(y_train[img_index])"
   ]
  },
  {
   "cell_type": "code",
   "execution_count": 4,
   "metadata": {},
   "outputs": [
    {
     "data": {
      "image/png": "[encoded data removed]",
      "text/plain": [
       "<matplotlib.figure.Figure at 0x12c091908>"
      ]
     },
     "metadata": {},
     "output_type": "display_data"
    }
   ],
   "source": [
    "# View the distribution\n",
    "\n",
    "category_counts = np.unique(y_test, return_counts = True)[1]\n",
    "y_pos = np.arange(n_classes)\n",
    "\n",
    "plt.bar(y_pos, category_counts)\n",
    "\n",
    "plt.savefig(\"traffic_sign_distribution.jpg\")#, plt.bar(y_pos, category_counts))"
   ]
  },
  {
   "cell_type": "markdown",
   "metadata": {},
   "source": [
    "----\n",
    "\n",
    "## Step 2: Design and Test a Model Architecture\n",
    "\n",
    "Design and implement a deep learning model that learns to recognize traffic signs. Train and test your model on the [German Traffic Sign Dataset](http://benchmark.ini.rub.de/?section=gtsrb&subsection=dataset).\n",
    "\n",
    "The LeNet-5 implementation shown in the [classroom](https://classroom.udacity.com/nanodegrees/nd013/parts/fbf77062-5703-404e-b60c-95b78b2f3f9e/modules/6df7ae49-c61c-4bb2-a23e-6527e69209ec/lessons/601ae704-1035-4287-8b11-e2c2716217ad/concepts/d4aca031-508f-4e0b-b493-e7b706120f81) at the end of the CNN lesson is a solid starting point. You'll have to change the number of classes and possibly the preprocessing, but aside from that it's plug and play! \n",
    "\n",
    "With the LeNet-5 solution from the lecture, you should expect a validation set accuracy of about 0.89. To meet specifications, the validation set accuracy will need to be at least 0.93. It is possible to get an even higher accuracy, but 0.93 is the minimum for a successful project submission. \n",
    "\n",
    "There are various aspects to consider when thinking about this problem:\n",
    "\n",
    "- Neural network architecture (is the network over or underfitting?)\n",
    "- Play around preprocessing techniques (normalization, rgb to grayscale, etc)\n",
    "- Number of examples per label (some have more than others).\n",
    "- Generate fake data.\n",
    "\n",
    "Here is an example of a [published baseline model on this problem](http://yann.lecun.com/exdb/publis/pdf/sermanet-ijcnn-11.pdf). It's not required to be familiar with the approach used in the paper but, it's good practice to try to read papers like these."
   ]
  },
  {
   "cell_type": "markdown",
   "metadata": {},
   "source": [
    "### Pre-process the Data Set (normalization, grayscale, etc.)"
   ]
  },
  {
   "cell_type": "markdown",
   "metadata": {},
   "source": [
    "Minimally, the image data should be normalized so that the data has mean zero and equal variance. For image data, `(pixel - 128)/ 128` is a quick way to approximately normalize the data and can be used in this project. \n",
    "\n",
    "Other pre-processing steps are optional. You can try different techniques to see if it improves performance. \n",
    "\n",
    "Use the code cell (or multiple code cells, if necessary) to implement the first step of your project."
   ]
  },
  {
   "cell_type": "code",
   "execution_count": 5,
   "metadata": {},
   "outputs": [
    {
     "data": {
      "image/png": "[encoded data removed]",
      "text/plain": [
       "<matplotlib.figure.Figure at 0x12eff41d0>"
      ]
     },
     "metadata": {},
     "output_type": "display_data"
    }
   ],
   "source": [
    "### Preprocess the data here. It is required to normalize the data. Other preprocessing steps could include \n",
    "### converting to grayscale, etc.\n",
    "### Feel free to use as many code cells as needed.\n",
    "\n",
    "#print(X_train[0])\n",
    "#X_train = (X_train - 128) / 128 # This makes it WORSE by ~20% validation accuracy\n",
    "#print(X_train[0])\n",
    "\n",
    "import cv2\n",
    "\n",
    "plt.imshow(X_train[1000])\n",
    "\n",
    "X_train_gray = []\n",
    "X_valid_gray = []\n",
    "\n",
    "for i in X_train:\n",
    "    new_im = i\n",
    "    #new_im = cv2.cvtColor(i, cv2.COLOR_RGB2GRAY)[:, :, np.newaxis]\n",
    "    new_im = (new_im - 128.0)/128.0\n",
    "    X_train_gray.append(new_im)\n",
    "\n",
    "for i in X_valid:\n",
    "    new_im = i\n",
    "    #new_im = cv2.cvtColor(i, cv2.COLOR_RGB2GRAY)[:, :, np.newaxis]\n",
    "    new_im = (new_im - 128.0)/128.0\n",
    "    X_valid_gray.append(new_im)"
   ]
  },
  {
   "cell_type": "code",
   "execution_count": 6,
   "metadata": {},
   "outputs": [
    {
     "name": "stdout",
     "output_type": "stream",
     "text": [
      "[28 25 24]\n",
      "[-0.78125   -0.8046875 -0.8125   ]\n"
     ]
    }
   ],
   "source": [
    "print(X_train[0][0][0])\n",
    "print(X_train_gray[0][0][0])"
   ]
  },
  {
   "cell_type": "markdown",
   "metadata": {},
   "source": [
    "### Model Architecture"
   ]
  },
  {
   "cell_type": "code",
   "execution_count": 7,
   "metadata": {
    "collapsed": true
   },
   "outputs": [],
   "source": [
    "### Define your architecture here.\n",
    "### Feel free to use as many code cells as needed.\n",
    "import tensorflow as tf\n",
    "from sklearn.utils import shuffle\n",
    "\n",
    "X_train_gray, y_train = shuffle(X_train_gray, y_train)"
   ]
  },
  {
   "cell_type": "code",
   "execution_count": 8,
   "metadata": {
    "collapsed": true
   },
   "outputs": [],
   "source": [
    "## Set hyperparamters\n",
    "\n",
    "EPOCHS = 20\n",
    "BATCH_SIZE = 16\n",
    "\n",
    "rate = .0005"
   ]
  },
  {
   "cell_type": "code",
   "execution_count": 9,
   "metadata": {},
   "outputs": [],
   "source": [
    "## Set up the neural net architecture\n",
    "\n",
    "def net_output(x, keep_prob):\n",
    "    # Start by defining inputs to the functions at each layer\n",
    "    mu = 0\n",
    "    sigma = .1\n",
    "    \n",
    "    conv_1x1_weights = tf.Variable(tf.truncated_normal((1, 1, 3, 3), mu, sigma))\n",
    "    conv_1x1_biases = tf.Variable(tf.zeros(3))\n",
    "    conv_1x1_strides = (1, 1, 1, 1)\n",
    "    conv_1x1_padding = 'SAME'\n",
    "    \n",
    "    conv_1_weights = tf.Variable(tf.truncated_normal((5, 5, 3, 6), mu, sigma))\n",
    "    conv_1_biases = tf.Variable(tf.zeros(6))\n",
    "    conv_1_strides = (1, 1, 1, 1)\n",
    "    conv_1_padding = 'VALID'\n",
    "    \n",
    "    #conv_1x1_weights = tf.Variable(tf.truncated_normal((1, 1, 6, 6), mu, sigma))\n",
    "    #conv_1x1_biases = tf.Variable(tf.zeros(6))\n",
    "    #conv_1x1_strides = (1, 1, 1, 1)\n",
    "    #conv_1x1_padding = 'SAME'\n",
    "    \n",
    "    pool_1_ksize = (1, 2, 2, 1)\n",
    "    pool_1_strides = (1, 2, 2, 1)\n",
    "    pool_1_padding = 'VALID'\n",
    "    \n",
    "    conv_2_weights = tf.Variable(tf.truncated_normal((5, 5, 6, 16), mu, sigma))\n",
    "    conv_2_biases = tf.Variable(tf.zeros(16))\n",
    "    conv_2_strides = (1, 1, 1, 1)\n",
    "    conv_2_padding = 'VALID'\n",
    "    \n",
    "    pool_2_ksize = (1, 2, 2, 1)\n",
    "    pool_2_strides = (1, 2, 2, 1)\n",
    "    pool_2_padding = 'VALID'\n",
    "    \n",
    "    fully_1_weights = tf.Variable(tf.truncated_normal((400, 120), mu, sigma))\n",
    "    fully_1_biases = tf.Variable(tf.zeros(120))\n",
    "\n",
    "    fully_2_weights = tf.Variable(tf.truncated_normal((120, 84), mu, sigma))\n",
    "    fully_2_biases = tf.Variable(tf.zeros(84))\n",
    "    \n",
    "    logits_weights = tf.Variable(tf.truncated_normal((84, 43), mu, sigma))\n",
    "    logits_biases = tf.Variable(tf.zeros(43))\n",
    "\n",
    "    \n",
    "    # First convolutional layer & ReLU activation: 32x32x1 -> 28x28x6\n",
    "    \n",
    "    conv_1x1 = tf.nn.conv2d(x, conv_1x1_weights, conv_1x1_strides, conv_1x1_padding) + conv_1x1_biases\n",
    "    activ_1x1 = tf.nn.relu(conv_1x1)\n",
    "    \n",
    "    #conv_1 = tf.nn.conv2d(x, conv_1_weights, conv_1_strides, conv_1_padding) + conv_1_biases\n",
    "    conv_1 = tf.nn.conv2d(activ_1x1, conv_1_weights, conv_1_strides, conv_1_padding) + conv_1_biases\n",
    "    activ_1 = tf.nn.relu(conv_1)\n",
    "    \n",
    "    #conv_1x1 = tf.nn.conv2d(conv_1, conv_1x1_weights, conv_1x1_strides, conv_1x1_padding) + conv_1x1_biases\n",
    "    #activ_1x1 = tf.nn.relu(conv_1x1)\n",
    "    \n",
    "    # First pooling: 28x28x6 -> 14x14x6\n",
    "    \n",
    "    pool_1 = tf.nn.max_pool(activ_1, pool_1_ksize, pool_1_strides, pool_1_padding)\n",
    "    \n",
    "    # Second convolutional layer & ReLU activation: 14x14x6 -> 10x10x16\n",
    "    \n",
    "    conv_2 = tf.nn.conv2d(pool_1, conv_2_weights, conv_2_strides, conv_2_padding) + conv_2_biases\n",
    "    activ_2 = tf.nn.relu(conv_2)\n",
    "    \n",
    "    # Second pooling: 10x10x16 -> 5x5x16\n",
    "    \n",
    "    pool_2 = tf.nn.max_pool(activ_2, pool_2_ksize, pool_2_strides, pool_2_padding)\n",
    "    \n",
    "    # Flatten the file for the fully connected layers: 5x5x16 -> 400 \n",
    "    \n",
    "    flat = tf.contrib.layers.flatten(pool_2)\n",
    "    \n",
    "    # First fully connected layer: 400 -> 120\n",
    "    \n",
    "    fully_1 = tf.add(tf.matmul(flat, fully_1_weights), fully_1_biases)\n",
    "    activ_3 = tf.nn.relu(fully_1)\n",
    "    \n",
    "    # Second fully connected layer: 120 -> 43\n",
    "    \n",
    "    dropped1 = tf.nn.dropout(activ_3, keep_prob)\n",
    "    fully_2 = tf.add(tf.matmul(dropped1, fully_2_weights), fully_2_biases)\n",
    "    activ_4 = tf.nn.relu(fully_2)\n",
    "    \n",
    "    # Take the logit\n",
    "    dropped2 = tf.nn.dropout(activ_4, keep_prob)\n",
    "    logits = tf.add(tf.matmul(dropped2, logits_weights), logits_biases)\n",
    "        \n",
    "    return logits"
   ]
  },
  {
   "cell_type": "markdown",
   "metadata": {},
   "source": [
    "### Train, Validate and Test the Model"
   ]
  },
  {
   "cell_type": "markdown",
   "metadata": {},
   "source": [
    "A validation set can be used to assess how well the model is performing. A low accuracy on the training and validation\n",
    "sets imply underfitting. A high accuracy on the training set but low accuracy on the validation set implies overfitting."
   ]
  },
  {
   "cell_type": "code",
   "execution_count": 10,
   "metadata": {},
   "outputs": [],
   "source": [
    "### Train your model here.\n",
    "### Calculate and report the accuracy on the training and validation set.\n",
    "### Once a final model architecture is selected, \n",
    "### the accuracy on the test set should be calculated and reported as well.\n",
    "### Feel free to use as many code cells as needed.\n",
    "\n",
    "# Start by creating tensorflow placeholders for the inputs\n",
    "\n",
    "x = tf.placeholder(tf.float32, (None, 32, 32, 3))\n",
    "y = tf.placeholder(tf.int32, (None))\n",
    "one_hot_y = tf.one_hot(y, 43)\n",
    "keep_prob = tf.placeholder(tf.float32)"
   ]
  },
  {
   "cell_type": "code",
   "execution_count": 11,
   "metadata": {},
   "outputs": [],
   "source": [
    "# Make a pass through the network\n",
    "logits = net_output(x, keep_prob)\n",
    "\n",
    "# Measure the error (entropy) of the output\n",
    "cross_entropy = tf.nn.softmax_cross_entropy_with_logits(labels = one_hot_y, logits = logits)\n",
    "\n",
    "# Take the average loss over all of the outputs\n",
    "loss = tf.reduce_mean(cross_entropy)\n",
    "\n",
    "# Define the optimization operation\n",
    "optim = tf.train.AdamOptimizer(learning_rate = rate)\n",
    "\n",
    "# Optimize over the loss function\n",
    "training_operation = optim.minimize(loss)"
   ]
  },
  {
   "cell_type": "code",
   "execution_count": 12,
   "metadata": {},
   "outputs": [],
   "source": [
    "# Model Evaluation - I think tf.argmax() takes the most probable prediction to compare to the actual answer\n",
    "correct_prediction = tf.equal(tf.argmax(logits, 1), tf.argmax(one_hot_y, 1))\n",
    "\n",
    "# Consolidate that into the average number of right answers (model accuracy)\n",
    "accuracy_operation = tf.reduce_mean(tf.cast(correct_prediction, tf.float32))\n",
    "\n",
    "# Create a model saver so I don't have to run this beast each time I want to use it\n",
    "saver = tf.train.Saver()\n",
    "\n",
    "def evaluate(X_data, y_data):\n",
    "    num_examples = len(X_data)\n",
    "    total_accuracy = 0\n",
    "    sess = tf.get_default_session()\n",
    "    for offset in range(0, num_examples, BATCH_SIZE):\n",
    "        batch_x, batch_y = X_data[offset : offset + BATCH_SIZE], y_data[offset : offset + BATCH_SIZE]\n",
    "        accuracy = sess.run(accuracy_operation, feed_dict = {x: batch_x, y: batch_y, keep_prob: 1})\n",
    "        total_accuracy += (accuracy * len(batch_x))\n",
    "    return total_accuracy/num_examples"
   ]
  },
  {
   "cell_type": "code",
   "execution_count": 13,
   "metadata": {
    "scrolled": false
   },
   "outputs": [
    {
     "name": "stdout",
     "output_type": "stream",
     "text": [
      "Training BEGINS!\n",
      "\n",
      "EPOCH NUMBER 1:\n",
      "Validation Accuracy: 0.628\n",
      "Training Accuracy: 0.671\n",
      "EPOCH NUMBER 2:\n",
      "Validation Accuracy: 0.793\n",
      "Training Accuracy: 0.855\n",
      "EPOCH NUMBER 3:\n",
      "Validation Accuracy: 0.868\n",
      "Training Accuracy: 0.921\n",
      "EPOCH NUMBER 4:\n",
      "Validation Accuracy: 0.895\n",
      "Training Accuracy: 0.945\n",
      "EPOCH NUMBER 5:\n",
      "Validation Accuracy: 0.895\n",
      "Training Accuracy: 0.956\n",
      "EPOCH NUMBER 6:\n",
      "Validation Accuracy: 0.915\n",
      "Training Accuracy: 0.968\n",
      "EPOCH NUMBER 7:\n",
      "Validation Accuracy: 0.929\n",
      "Training Accuracy: 0.972\n",
      "EPOCH NUMBER 8:\n",
      "Validation Accuracy: 0.946\n",
      "Training Accuracy: 0.982\n",
      "EPOCH NUMBER 9:\n",
      "Validation Accuracy: 0.944\n",
      "Training Accuracy: 0.981\n",
      "EPOCH NUMBER 10:\n",
      "Validation Accuracy: 0.947\n",
      "Training Accuracy: 0.987\n",
      "EPOCH NUMBER 11:\n",
      "Validation Accuracy: 0.948\n",
      "Training Accuracy: 0.985\n",
      "EPOCH NUMBER 12:\n",
      "Validation Accuracy: 0.953\n",
      "Training Accuracy: 0.989\n",
      "EPOCH NUMBER 13:\n",
      "Validation Accuracy: 0.952\n",
      "Training Accuracy: 0.987\n",
      "EPOCH NUMBER 14:\n",
      "Validation Accuracy: 0.953\n",
      "Training Accuracy: 0.989\n",
      "EPOCH NUMBER 15:\n",
      "Validation Accuracy: 0.956\n",
      "Training Accuracy: 0.992\n",
      "EPOCH NUMBER 16:\n",
      "Validation Accuracy: 0.958\n",
      "Training Accuracy: 0.992\n",
      "EPOCH NUMBER 17:\n",
      "Validation Accuracy: 0.960\n",
      "Training Accuracy: 0.993\n",
      "EPOCH NUMBER 18:\n",
      "Validation Accuracy: 0.956\n",
      "Training Accuracy: 0.992\n",
      "EPOCH NUMBER 19:\n",
      "Validation Accuracy: 0.963\n",
      "Training Accuracy: 0.995\n",
      "EPOCH NUMBER 20:\n",
      "Validation Accuracy: 0.960\n",
      "Training Accuracy: 0.993\n",
      "Model saved\n"
     ]
    }
   ],
   "source": [
    "# Train the model\n",
    "\n",
    "with tf.Session() as sess:\n",
    "    sess.run(tf.global_variables_initializer())\n",
    "    num_examples = len(X_train)\n",
    "    \n",
    "    print(\"Training BEGINS!\")\n",
    "    print()\n",
    "    \n",
    "    for i in range(EPOCHS):\n",
    "        X_train_gray, y_train = shuffle(X_train_gray, y_train)\n",
    "        for offset in range(0, num_examples, BATCH_SIZE):\n",
    "            end = offset + BATCH_SIZE\n",
    "            batch_x, batch_y = X_train_gray[offset : end], y_train[offset : end]\n",
    "            sess.run(training_operation, feed_dict = {x: batch_x, y: batch_y, keep_prob: .5})\n",
    "            \n",
    "        validation_accuracy = evaluate(X_valid_gray, y_valid)\n",
    "        training_accuracy = evaluate(X_train_gray, y_train)\n",
    "        \n",
    "        print(\"EPOCH NUMBER {}:\".format(i + 1))\n",
    "        print(\"Validation Accuracy: {:.3f}\".format(validation_accuracy))\n",
    "        print(\"Training Accuracy: {:.3f}\".format(training_accuracy))\n",
    "        \n",
    "    saver.save(sess, './sign_classifier_grayscale_doubledropout_norm_1x1')\n",
    "    print(\"Model saved\")"
   ]
  },
  {
   "cell_type": "markdown",
   "metadata": {},
   "source": [
    "---\n",
    "\n",
    "## Step 3: Test a Model on New Images\n",
    "\n",
    "To give yourself more insight into how your model is working, download at least five pictures of German traffic signs from the web and use your model to predict the traffic sign type.\n",
    "\n",
    "You may find `signnames.csv` useful as it contains mappings from the class id (integer) to the actual sign name."
   ]
  },
  {
   "cell_type": "markdown",
   "metadata": {},
   "source": [
    "### Load and Output the Images"
   ]
  },
  {
   "cell_type": "code",
   "execution_count": 14,
   "metadata": {},
   "outputs": [
    {
     "data": {
      "image/png": "[encoded data removed]",
      "text/plain": [
       "<matplotlib.figure.Figure at 0x13db1b940>"
      ]
     },
     "metadata": {},
     "output_type": "display_data"
    },
    {
     "data": {
      "image/png": "[encoded data removed]",
      "text/plain": [
       "<matplotlib.figure.Figure at 0x13ddfe400>"
      ]
     },
     "metadata": {},
     "output_type": "display_data"
    },
    {
     "data": {
      "image/png": "[encoded data removed]",
      "text/plain": [
       "<matplotlib.figure.Figure at 0x1418860b8>"
      ]
     },
     "metadata": {},
     "output_type": "display_data"
    },
    {
     "data": {
      "image/png": "[encoded data removed]",
      "text/plain": [
       "<matplotlib.figure.Figure at 0x141967588>"
      ]
     },
     "metadata": {},
     "output_type": "display_data"
    },
    {
     "data": {
      "image/png": "[encoded data removed]",
      "text/plain": [
       "<matplotlib.figure.Figure at 0x141bcde48>"
      ]
     },
     "metadata": {},
     "output_type": "display_data"
    },
    {
     "data": {
      "text/plain": [
       "<matplotlib.figure.Figure at 0x141b8c9e8>"
      ]
     },
     "metadata": {},
     "output_type": "display_data"
    }
   ],
   "source": [
    "### Load the images and plot them here.\n",
    "### Feel free to use as many code cells as needed.\n",
    "import os\n",
    "import matplotlib.image as mpimg\n",
    "\n",
    "five_tests = []\n",
    "\n",
    "for file in os.listdir('five-test-images/'):\n",
    "    if file.endswith('.jpg'):\n",
    "        five_tests.append(mpimg.imread('five-test-images/' + file))\n",
    "    \n",
    "for img in five_tests:\n",
    "    plt.imshow(img)\n",
    "    plt.figure()"
   ]
  },
  {
   "cell_type": "markdown",
   "metadata": {},
   "source": [
    "### Predict the Sign Type for Each Image"
   ]
  },
  {
   "cell_type": "code",
   "execution_count": 15,
   "metadata": {
    "scrolled": false
   },
   "outputs": [
    {
     "name": "stdout",
     "output_type": "stream",
     "text": [
      "[ 6 15 12 14 13]\n"
     ]
    }
   ],
   "source": [
    "### Run the predictions here and use the model to output the prediction for each image.\n",
    "### Make sure to pre-process the images with the same pre-processing pipeline used earlier.\n",
    "### Feel free to use as many code cells as needed.\n",
    "\n",
    "five_tests_gray = []\n",
    "\n",
    "for i in five_tests:\n",
    "    new_im = i\n",
    "    #new_im = cv2.cvtColor(i, cv2.COLOR_RGB2GRAY)[:, :, np.newaxis]\n",
    "    new_im = (new_im - 128.0)/128.0\n",
    "    five_tests_gray.append(new_im)\n",
    "\n",
    "preds = tf.argmax(logits, 1)\n",
    "\n",
    "with tf.Session() as sess:\n",
    "    #tf.reset_default_graph()\n",
    "    #sess.run(tf.global_variables_initializer())\n",
    "    saver = tf.train.import_meta_graph('sign_classifier_grayscale_doubledropout_norm_1x1.meta')\n",
    "    saver.restore(sess, tf.train.latest_checkpoint('.'))\n",
    "    \n",
    "    preds = sess.run(preds, feed_dict = {x: five_tests_gray, keep_prob: 1})\n",
    "    print(preds)"
   ]
  },
  {
   "cell_type": "markdown",
   "metadata": {},
   "source": [
    "### Analyze Performance"
   ]
  },
  {
   "cell_type": "code",
   "execution_count": 16,
   "metadata": {},
   "outputs": [
    {
     "name": "stdout",
     "output_type": "stream",
     "text": [
      "0.800000011921\n"
     ]
    }
   ],
   "source": [
    "### Calculate the accuracy for these 5 new images. \n",
    "### For example, if the model predicted 1 out of 5 signs correctly, it's 20% accurate on these new images.\n",
    "with tf.Session() as sess:\n",
    "    saver = tf.train.import_meta_graph('sign_classifier_grayscale_doubledropout_norm_1x1.meta')\n",
    "    saver.restore(sess, tf.train.latest_checkpoint('.'))\n",
    "    \n",
    "    five_tests_accuracy = evaluate(five_tests_gray, [5, 15, 12, 14, 13])\n",
    "    print(five_tests_accuracy)"
   ]
  },
  {
   "cell_type": "markdown",
   "metadata": {},
   "source": [
    "### Output Top 5 Softmax Probabilities For Each Image Found on the Web"
   ]
  },
  {
   "cell_type": "markdown",
   "metadata": {},
   "source": [
    "For each of the new images, print out the model's softmax probabilities to show the **certainty** of the model's predictions (limit the output to the top 5 probabilities for each image). [`tf.nn.top_k`](https://www.tensorflow.org/versions/r0.12/api_docs/python/nn.html#top_k) could prove helpful here. \n",
    "\n",
    "The example below demonstrates how tf.nn.top_k can be used to find the top k predictions for each image.\n",
    "\n",
    "`tf.nn.top_k` will return the values and indices (class ids) of the top k predictions. So if k=3, for each sign, it'll return the 3 largest probabilities (out of a possible 43) and the correspoding class ids.\n",
    "\n",
    "Take this numpy array as an example. The values in the array represent predictions. The array contains softmax probabilities for five candidate images with six possible classes. `tf.nn.top_k` is used to choose the three classes with the highest probability:\n",
    "\n",
    "```\n",
    "# (5, 6) array\n",
    "a = np.array([[ 0.24879643,  0.07032244,  0.12641572,  0.34763842,  0.07893497,\n",
    "         0.12789202],\n",
    "       [ 0.28086119,  0.27569815,  0.08594638,  0.0178669 ,  0.18063401,\n",
    "         0.15899337],\n",
    "       [ 0.26076848,  0.23664738,  0.08020603,  0.07001922,  0.1134371 ,\n",
    "         0.23892179],\n",
    "       [ 0.11943333,  0.29198961,  0.02605103,  0.26234032,  0.1351348 ,\n",
    "         0.16505091],\n",
    "       [ 0.09561176,  0.34396535,  0.0643941 ,  0.16240774,  0.24206137,\n",
    "         0.09155967]])\n",
    "```\n",
    "\n",
    "Running it through `sess.run(tf.nn.top_k(tf.constant(a), k=3))` produces:\n",
    "\n",
    "```\n",
    "TopKV2(values=array([[ 0.34763842,  0.24879643,  0.12789202],\n",
    "       [ 0.28086119,  0.27569815,  0.18063401],\n",
    "       [ 0.26076848,  0.23892179,  0.23664738],\n",
    "       [ 0.29198961,  0.26234032,  0.16505091],\n",
    "       [ 0.34396535,  0.24206137,  0.16240774]]), indices=array([[3, 0, 5],\n",
    "       [0, 1, 4],\n",
    "       [0, 5, 1],\n",
    "       [1, 3, 5],\n",
    "       [1, 4, 3]], dtype=int32))\n",
    "```\n",
    "\n",
    "Looking just at the first row we get `[ 0.34763842,  0.24879643,  0.12789202]`, you can confirm these are the 3 largest probabilities in `a`. You'll also notice `[3, 0, 5]` are the corresponding indices."
   ]
  },
  {
   "cell_type": "code",
   "execution_count": 17,
   "metadata": {},
   "outputs": [
    {
     "name": "stdout",
     "output_type": "stream",
     "text": [
      "Top 5:  TopKV2(values=array([[  8.94392252e-01,   1.01836070e-01,   2.91417772e-03,\n",
      "          6.55436481e-04,   1.01833590e-04],\n",
      "       [  3.76064003e-01,   2.62764782e-01,   2.51942903e-01,\n",
      "          3.92923057e-02,   1.41135566e-02],\n",
      "       [  1.00000000e+00,   4.86638285e-09,   1.29783684e-10,\n",
      "          6.07823514e-11,   2.55467479e-12],\n",
      "       [  9.99704897e-01,   2.69648852e-04,   1.43751486e-05,\n",
      "          7.44460385e-06,   2.27461123e-06],\n",
      "       [  1.00000000e+00,   1.70518880e-23,   1.63729795e-27,\n",
      "          5.67105081e-30,   2.94974415e-30]], dtype=float32), indices=array([[ 6,  5,  3, 32, 14],\n",
      "       [15, 12,  8,  5, 38],\n",
      "       [12, 13, 41,  7,  8],\n",
      "       [14, 13,  1, 17, 12],\n",
      "       [13, 35,  3, 25,  9]], dtype=int32))\n"
     ]
    }
   ],
   "source": [
    "### Print out the top five softmax probabilities for the predictions on the German traffic sign images found on the web. \n",
    "### Feel free to use as many code cells as needed.\n",
    "\n",
    "pred_probs = tf.nn.softmax(logits)\n",
    "top_5 = tf.nn.top_k(pred_probs, 5)\n",
    "\n",
    "with tf.Session() as sess:\n",
    "    saver = tf.train.import_meta_graph('sign_classifier_grayscale_doubledropout_norm_1x1.meta')\n",
    "    saver.restore(sess, tf.train.latest_checkpoint('.'))\n",
    "    \n",
    "    top_5 = sess.run(top_5, feed_dict = {x: five_tests_gray, keep_prob: 1})\n",
    "    print(\"Top 5: \", top_5)"
   ]
  },
  {
   "cell_type": "code",
   "execution_count": 19,
   "metadata": {},
   "outputs": [
    {
     "name": "stdout",
     "output_type": "stream",
     "text": [
      "Test Accuracy = 0.937\n"
     ]
    }
   ],
   "source": [
    "X_test_gray = []\n",
    "\n",
    "for i in X_test:\n",
    "    new_im = i\n",
    "    new_im = (new_im - 128.0)/128.0\n",
    "    X_test_gray.append(new_im)\n",
    "\n",
    "with tf.Session() as sess:\n",
    "    saver = tf.train.import_meta_graph('sign_classifier_grayscale_doubledropout_norm_1x1.meta')\n",
    "    saver.restore(sess, tf.train.latest_checkpoint('.'))\n",
    "    \n",
    "    test_accuracy = evaluate(X_test_gray, y_test)\n",
    "    print(\"Test Accuracy = {:.3f}\".format(test_accuracy))"
   ]
  },
  {
   "cell_type": "markdown",
   "metadata": {},
   "source": [
    "### Project Writeup\n",
    "\n",
    "Once you have completed the code implementation, document your results in a project writeup using this [template](https://github.com/udacity/CarND-Traffic-Sign-Classifier-Project/blob/master/writeup_template.md) as a guide. The writeup can be in a markdown or pdf file. "
   ]
  },
  {
   "cell_type": "markdown",
   "metadata": {},
   "source": [
    "> **Note**: Once you have completed all of the code implementations and successfully answered each question above, you may finalize your work by exporting the iPython Notebook as an HTML document. You can do this by using the menu above and navigating to  \\n\",\n",
    "    \"**File -> Download as -> HTML (.html)**. Include the finished document along with this notebook as your submission."
   ]
  },
  {
   "cell_type": "markdown",
   "metadata": {},
   "source": [
    "---\n",
    "\n",
    "## Step 4 (Optional): Visualize the Neural Network's State with Test Images\n",
    "\n",
    " This Section is not required to complete but acts as an additional excersise for understaning the output of a neural network's weights. While neural networks can be a great learning device they are often referred to as a black box. We can understand what the weights of a neural network look like better by plotting their feature maps. After successfully training your neural network you can see what it's feature maps look like by plotting the output of the network's weight layers in response to a test stimuli image. From these plotted feature maps, it's possible to see what characteristics of an image the network finds interesting. For a sign, maybe the inner network feature maps react with high activation to the sign's boundary outline or to the contrast in the sign's painted symbol.\n",
    "\n",
    " Provided for you below is the function code that allows you to get the visualization output of any tensorflow weight layer you want. The inputs to the function should be a stimuli image, one used during training or a new one you provided, and then the tensorflow variable name that represents the layer's state during the training process, for instance if you wanted to see what the [LeNet lab's](https://classroom.udacity.com/nanodegrees/nd013/parts/fbf77062-5703-404e-b60c-95b78b2f3f9e/modules/6df7ae49-c61c-4bb2-a23e-6527e69209ec/lessons/601ae704-1035-4287-8b11-e2c2716217ad/concepts/d4aca031-508f-4e0b-b493-e7b706120f81) feature maps looked like for it's second convolutional layer you could enter conv2 as the tf_activation variable.\n",
    "\n",
    "For an example of what feature map outputs look like, check out NVIDIA's results in their paper [End-to-End Deep Learning for Self-Driving Cars](https://devblogs.nvidia.com/parallelforall/deep-learning-self-driving-cars/) in the section Visualization of internal CNN State. NVIDIA was able to show that their network's inner weights had high activations to road boundary lines by comparing feature maps from an image with a clear path to one without. Try experimenting with a similar test to show that your trained network's weights are looking for interesting features, whether it's looking at differences in feature maps from images with or without a sign, or even what feature maps look like in a trained network vs a completely untrained one on the same sign image.\n",
    "\n",
    "<figure>\n",
    " <img src=\"visualize_cnn.png\" width=\"380\" alt=\"Combined Image\" />\n",
    " <figcaption>\n",
    " <p></p> \n",
    " <p style=\"text-align: center;\"> Your output should look something like this (above)</p> \n",
    " </figcaption>\n",
    "</figure>\n",
    " <p></p> \n"
   ]
  },
  {
   "cell_type": "code",
   "execution_count": null,
   "metadata": {
    "collapsed": true
   },
   "outputs": [],
   "source": [
    "### Visualize your network's feature maps here.\n",
    "### Feel free to use as many code cells as needed.\n",
    "\n",
    "# image_input: the test image being fed into the network to produce the feature maps\n",
    "# tf_activation: should be a tf variable name used during your training procedure that represents the calculated state of a specific weight layer\n",
    "# activation_min/max: can be used to view the activation contrast in more detail, by default matplot sets min and max to the actual min and max values of the output\n",
    "# plt_num: used to plot out multiple different weight feature map sets on the same block, just extend the plt number for each new feature map entry\n",
    "\n",
    "def outputFeatureMap(image_input, tf_activation, activation_min=-1, activation_max=-1 ,plt_num=1):\n",
    "    # Here make sure to preprocess your image_input in a way your network expects\n",
    "    # with size, normalization, ect if needed\n",
    "    # image_input =\n",
    "    # Note: x should be the same name as your network's tensorflow data placeholder variable\n",
    "    # If you get an error tf_activation is not defined it may be having trouble accessing the variable from inside a function\n",
    "    activation = tf_activation.eval(session=sess,feed_dict={x : image_input})\n",
    "    featuremaps = activation.shape[3]\n",
    "    plt.figure(plt_num, figsize=(15,15))\n",
    "    for featuremap in range(featuremaps):\n",
    "        plt.subplot(6,8, featuremap+1) # sets the number of feature maps to show on each row and column\n",
    "        plt.title('FeatureMap ' + str(featuremap)) # displays the feature map number\n",
    "        if activation_min != -1 & activation_max != -1:\n",
    "            plt.imshow(activation[0,:,:, featuremap], interpolation=\"nearest\", vmin =activation_min, vmax=activation_max, cmap=\"gray\")\n",
    "        elif activation_max != -1:\n",
    "            plt.imshow(activation[0,:,:, featuremap], interpolation=\"nearest\", vmax=activation_max, cmap=\"gray\")\n",
    "        elif activation_min !=-1:\n",
    "            plt.imshow(activation[0,:,:, featuremap], interpolation=\"nearest\", vmin=activation_min, cmap=\"gray\")\n",
    "        else:\n",
    "            plt.imshow(activation[0,:,:, featuremap], interpolation=\"nearest\", cmap=\"gray\")"
   ]
  }
 ],
 "metadata": {
  "anaconda-cloud": {},
  "kernelspec": {
   "display_name": "Python 3",
   "language": "python",
   "name": "python3"
  },
  "language_info": {
   "codemirror_mode": {
    "name": "ipython",
    "version": 3
   },
   "file_extension": ".py",
   "mimetype": "text/x-python",
   "name": "python",
   "nbconvert_exporter": "python",
   "pygments_lexer": "ipython3",
   "version": "3.5.2"
  },
  "widgets": {
   "state": {},
   "version": "1.1.2"
  }
 },
 "nbformat": 4,
 "nbformat_minor": 1
}
